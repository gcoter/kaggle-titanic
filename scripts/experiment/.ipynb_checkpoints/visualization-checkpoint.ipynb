{
 "cells": [
  {
   "cell_type": "code",
   "execution_count": 14,
   "metadata": {
    "collapsed": false,
    "scrolled": true
   },
   "outputs": [
    {
     "name": "stdout",
     "output_type": "stream",
     "text": [
      "TRAIN SET\n",
      "<class 'pandas.core.frame.DataFrame'>\n",
      "RangeIndex: 891 entries, 0 to 890\n",
      "Data columns (total 12 columns):\n",
      "PassengerId    891 non-null int64\n",
      "Survived       891 non-null int64\n",
      "Pclass         891 non-null int64\n",
      "Name           891 non-null object\n",
      "Sex            891 non-null object\n",
      "Age            714 non-null float64\n",
      "SibSp          891 non-null int64\n",
      "Parch          891 non-null int64\n",
      "Ticket         891 non-null object\n",
      "Fare           891 non-null float64\n",
      "Cabin          204 non-null object\n",
      "Embarked       889 non-null object\n",
      "dtypes: float64(2), int64(5), object(5)\n",
      "memory usage: 83.6+ KB\n"
     ]
    }
   ],
   "source": [
    "%matplotlib inline\n",
    "\n",
    "from __future__ import print_function\n",
    "import constants\n",
    "from datamanager import DataManager\n",
    "import matplotlib.pyplot as plt\n",
    "\n",
    "dataframes = DataManager.extract(constants.FILES_PATHS)\n",
    "train_df = dataframes[\"train.csv\"]\n",
    "test_df = dataframes[\"test.csv\"]\n",
    "\n",
    "print(\"TRAIN SET\")\n",
    "train_df.info()\n",
    "\n",
    "print(\"\\nTEST SET\")"
   ]
  },
  {
   "cell_type": "code",
   "execution_count": 15,
   "metadata": {
    "collapsed": false
   },
   "outputs": [
    {
     "name": "stdout",
     "output_type": "stream",
     "text": [
      "NEW TRAIN SET\n",
      "<class 'pandas.core.frame.DataFrame'>\n",
      "RangeIndex: 891 entries, 0 to 890\n",
      "Data columns (total 9 columns):\n",
      "Survived      891 non-null int64\n",
      "Pclass        891 non-null int64\n",
      "Sex           891 non-null int64\n",
      "Fare          891 non-null float64\n",
      "Embarked      891 non-null int64\n",
      "FamilySize    891 non-null int64\n",
      "Title         891 non-null int64\n",
      "IsChild       891 non-null int64\n",
      "IsMother      891 non-null int64\n",
      "dtypes: float64(1), int64(8)\n",
      "memory usage: 62.7 KB\n"
     ]
    }
   ],
   "source": [
    "def transform(dataframe):\n",
    "    # Clean and complete\n",
    "    dataframe.loc[dataframe['Age'].isnull(),'Age'] = dataframe['Age'].median()\n",
    "    dataframe.loc[dataframe['Embarked'].isnull(),'Embarked'] = 'C' # Assumed from the fare payed (80, close to 59 which is the average price from 'C')\n",
    "\n",
    "    # Feature Engineering\n",
    "    dataframe['FamilySize'] = dataframe['SibSp'] + dataframe['Parch'] + 1\n",
    "    \n",
    "    dataframe.loc[dataframe['FamilySize'] == 1, 'FamilySize'] = 0\n",
    "    dataframe.loc[dataframe['FamilySize'] == 2, 'FamilySize'] = 1\n",
    "    dataframe.loc[dataframe['FamilySize'] > 3, 'FamilySize'] = 2\n",
    "    \n",
    "    dataframe['Title'] = dataframe['Name'].str.extract(\"(.*\\.)\", expand=False).str.split(\",\", expand=False).str.get(1).str.strip()\n",
    "    dataframe.loc[dataframe['Title'] == 'Mlle.', 'Title'] = 'Miss.'\n",
    "    dataframe.loc[dataframe['Title'] == 'Ms.', 'Title'] = 'Mrs.'\n",
    "    dataframe.loc[dataframe['Title'] == 'Mme.', 'Title'] = 'Mrs.'\n",
    "    dataframe.loc[dataframe['Title'] == 'Lady.', 'Title'] = 'Miss.'\n",
    "    dataframe.loc[~dataframe['Title'].isin(constants.FREQUENT_TITLES), 'Title'] = 'Rare'\n",
    "    \n",
    "    dataframe['IsChild'] = dataframe['Age'] < 18\n",
    "    dataframe['IsMother'] = (dataframe['Sex'] == 'female') & (~dataframe['IsChild']) & (dataframe['Parch'] > 0) & (dataframe['Title'] != 'Miss.')\n",
    "\n",
    "    # Numerize\n",
    "    dataframe['Sex'] = dataframe['Sex'].map( {'male': 0, 'female': 1} ).astype(int)\n",
    "    dataframe = DataManager.convert_to_classes(dataframe,'Fare')\n",
    "\n",
    "    for i in range(len(constants.POSSIBLE_TITLES)):\n",
    "        dataframe.loc[dataframe['Title'] == constants.POSSIBLE_TITLES[i], 'Title'] = i\n",
    "\n",
    "    dataframe['Embarked'] = dataframe['Embarked'].map( {'Q': 0, 'S': 1, 'C': 2} ).astype(int)\n",
    "\n",
    "    # Conversions to int\n",
    "    dataframe['Age'] = dataframe['Age'].astype(int)\n",
    "    dataframe['FamilySize'] = dataframe['FamilySize'].astype(int)\n",
    "    dataframe['Title'] = dataframe['Title'].astype(int)\n",
    "    dataframe['IsChild'] = dataframe['IsChild'].astype(int)\n",
    "    dataframe['IsMother'] = dataframe['IsMother'].astype(int)\n",
    "\n",
    "    # Drop unused\n",
    "    dataframe = dataframe.drop(['PassengerId','Parch','SibSp','Name','Ticket','Cabin','Age'], axis=1)\n",
    "    \n",
    "    return dataframe\n",
    "\n",
    "new_train_df = transform(train_df)\n",
    "\n",
    "print(\"NEW TRAIN SET\")\n",
    "new_train_df.info()"
   ]
  },
  {
   "cell_type": "code",
   "execution_count": 16,
   "metadata": {
    "collapsed": false
   },
   "outputs": [
    {
     "data": {
      "text/plain": [
       "Survived      1.000000\n",
       "Pclass       -0.338481\n",
       "Sex           0.543351\n",
       "Fare          0.296834\n",
       "Embarked      0.131042\n",
       "FamilySize    0.174465\n",
       "Title         0.440580\n",
       "IsChild       0.122239\n",
       "IsMother      0.175967\n",
       "Name: Survived, dtype: float64"
      ]
     },
     "execution_count": 16,
     "metadata": {},
     "output_type": "execute_result"
    }
   ],
   "source": [
    "eps = 0\n",
    "corr = new_train_df.corr()\n",
    "#corr[corr['Survived'].abs() >= eps]['Survived']\n",
    "\n",
    "corr['Survived']"
   ]
  },
  {
   "cell_type": "code",
   "execution_count": null,
   "metadata": {
    "collapsed": true
   },
   "outputs": [],
   "source": []
  }
 ],
 "metadata": {
  "kernelspec": {
   "display_name": "Python [Root]",
   "language": "python",
   "name": "Python [Root]"
  },
  "language_info": {
   "codemirror_mode": {
    "name": "ipython",
    "version": 2
   },
   "file_extension": ".py",
   "mimetype": "text/x-python",
   "name": "python",
   "nbconvert_exporter": "python",
   "pygments_lexer": "ipython2",
   "version": "2.7.12"
  }
 },
 "nbformat": 4,
 "nbformat_minor": 0
}
